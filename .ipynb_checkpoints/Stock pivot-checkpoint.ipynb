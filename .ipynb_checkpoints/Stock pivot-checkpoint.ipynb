{
 "cells": [
  {
   "cell_type": "code",
   "execution_count": 14,
   "metadata": {},
   "outputs": [],
   "source": [
    "import yfinance as yf\n",
    "import datetime as dt\n",
    "import pandas as pd\n",
    "from pandas_datareader import data as pdr\n",
    "import matplotlib.pyplot as plt\n",
    "import mplfinance as mpf"
   ]
  },
  {
   "cell_type": "code",
   "execution_count": 5,
   "metadata": {},
   "outputs": [],
   "source": [
    "#!pip install yfinance"
   ]
  },
  {
   "cell_type": "code",
   "execution_count": 9,
   "metadata": {},
   "outputs": [],
   "source": [
    "yf.pdr_override()\n",
    "start=dt.datetime(2020, 1, 1)\n",
    "now=dt.datetime(2021,6,1)"
   ]
  },
  {
   "cell_type": "code",
   "execution_count": 10,
   "metadata": {},
   "outputs": [
    {
     "name": "stdout",
     "output_type": "stream",
     "text": [
      "[*********************100%***********************]  1 of 1 completed\n"
     ]
    }
   ],
   "source": [
    "df=pdr.get_data_yahoo(\"MSFT\",start,now)"
   ]
  },
  {
   "cell_type": "code",
   "execution_count": 11,
   "metadata": {},
   "outputs": [
    {
     "data": {
      "text/html": [
       "<div>\n",
       "<style scoped>\n",
       "    .dataframe tbody tr th:only-of-type {\n",
       "        vertical-align: middle;\n",
       "    }\n",
       "\n",
       "    .dataframe tbody tr th {\n",
       "        vertical-align: top;\n",
       "    }\n",
       "\n",
       "    .dataframe thead th {\n",
       "        text-align: right;\n",
       "    }\n",
       "</style>\n",
       "<table border=\"1\" class=\"dataframe\">\n",
       "  <thead>\n",
       "    <tr style=\"text-align: right;\">\n",
       "      <th></th>\n",
       "      <th>Open</th>\n",
       "      <th>High</th>\n",
       "      <th>Low</th>\n",
       "      <th>Close</th>\n",
       "      <th>Adj Close</th>\n",
       "      <th>Volume</th>\n",
       "    </tr>\n",
       "    <tr>\n",
       "      <th>Date</th>\n",
       "      <th></th>\n",
       "      <th></th>\n",
       "      <th></th>\n",
       "      <th></th>\n",
       "      <th></th>\n",
       "      <th></th>\n",
       "    </tr>\n",
       "  </thead>\n",
       "  <tbody>\n",
       "    <tr>\n",
       "      <th>2019-12-31</th>\n",
       "      <td>156.770004</td>\n",
       "      <td>157.770004</td>\n",
       "      <td>156.449997</td>\n",
       "      <td>157.699997</td>\n",
       "      <td>155.329636</td>\n",
       "      <td>18369400</td>\n",
       "    </tr>\n",
       "    <tr>\n",
       "      <th>2020-01-02</th>\n",
       "      <td>158.779999</td>\n",
       "      <td>160.729996</td>\n",
       "      <td>158.330002</td>\n",
       "      <td>160.619995</td>\n",
       "      <td>158.205765</td>\n",
       "      <td>22622100</td>\n",
       "    </tr>\n",
       "    <tr>\n",
       "      <th>2020-01-03</th>\n",
       "      <td>158.320007</td>\n",
       "      <td>159.949997</td>\n",
       "      <td>158.059998</td>\n",
       "      <td>158.619995</td>\n",
       "      <td>156.235825</td>\n",
       "      <td>21116200</td>\n",
       "    </tr>\n",
       "    <tr>\n",
       "      <th>2020-01-06</th>\n",
       "      <td>157.080002</td>\n",
       "      <td>159.100006</td>\n",
       "      <td>156.509995</td>\n",
       "      <td>159.029999</td>\n",
       "      <td>156.639694</td>\n",
       "      <td>20813700</td>\n",
       "    </tr>\n",
       "    <tr>\n",
       "      <th>2020-01-07</th>\n",
       "      <td>159.320007</td>\n",
       "      <td>159.669998</td>\n",
       "      <td>157.320007</td>\n",
       "      <td>157.580002</td>\n",
       "      <td>155.211456</td>\n",
       "      <td>21634100</td>\n",
       "    </tr>\n",
       "    <tr>\n",
       "      <th>...</th>\n",
       "      <td>...</td>\n",
       "      <td>...</td>\n",
       "      <td>...</td>\n",
       "      <td>...</td>\n",
       "      <td>...</td>\n",
       "      <td>...</td>\n",
       "    </tr>\n",
       "    <tr>\n",
       "      <th>2021-05-24</th>\n",
       "      <td>247.789993</td>\n",
       "      <td>251.160004</td>\n",
       "      <td>247.509995</td>\n",
       "      <td>250.779999</td>\n",
       "      <td>250.779999</td>\n",
       "      <td>21411500</td>\n",
       "    </tr>\n",
       "    <tr>\n",
       "      <th>2021-05-25</th>\n",
       "      <td>251.770004</td>\n",
       "      <td>252.750000</td>\n",
       "      <td>250.820007</td>\n",
       "      <td>251.720001</td>\n",
       "      <td>251.720001</td>\n",
       "      <td>17704300</td>\n",
       "    </tr>\n",
       "    <tr>\n",
       "      <th>2021-05-26</th>\n",
       "      <td>251.429993</td>\n",
       "      <td>252.940002</td>\n",
       "      <td>250.750000</td>\n",
       "      <td>251.490005</td>\n",
       "      <td>251.490005</td>\n",
       "      <td>17771600</td>\n",
       "    </tr>\n",
       "    <tr>\n",
       "      <th>2021-05-27</th>\n",
       "      <td>251.169998</td>\n",
       "      <td>251.479996</td>\n",
       "      <td>249.250000</td>\n",
       "      <td>249.309998</td>\n",
       "      <td>249.309998</td>\n",
       "      <td>24426200</td>\n",
       "    </tr>\n",
       "    <tr>\n",
       "      <th>2021-05-28</th>\n",
       "      <td>251.000000</td>\n",
       "      <td>252.080002</td>\n",
       "      <td>249.559998</td>\n",
       "      <td>249.679993</td>\n",
       "      <td>249.679993</td>\n",
       "      <td>18270200</td>\n",
       "    </tr>\n",
       "  </tbody>\n",
       "</table>\n",
       "<p>356 rows × 6 columns</p>\n",
       "</div>"
      ],
      "text/plain": [
       "                  Open        High         Low       Close   Adj Close  \\\n",
       "Date                                                                     \n",
       "2019-12-31  156.770004  157.770004  156.449997  157.699997  155.329636   \n",
       "2020-01-02  158.779999  160.729996  158.330002  160.619995  158.205765   \n",
       "2020-01-03  158.320007  159.949997  158.059998  158.619995  156.235825   \n",
       "2020-01-06  157.080002  159.100006  156.509995  159.029999  156.639694   \n",
       "2020-01-07  159.320007  159.669998  157.320007  157.580002  155.211456   \n",
       "...                ...         ...         ...         ...         ...   \n",
       "2021-05-24  247.789993  251.160004  247.509995  250.779999  250.779999   \n",
       "2021-05-25  251.770004  252.750000  250.820007  251.720001  251.720001   \n",
       "2021-05-26  251.429993  252.940002  250.750000  251.490005  251.490005   \n",
       "2021-05-27  251.169998  251.479996  249.250000  249.309998  249.309998   \n",
       "2021-05-28  251.000000  252.080002  249.559998  249.679993  249.679993   \n",
       "\n",
       "              Volume  \n",
       "Date                  \n",
       "2019-12-31  18369400  \n",
       "2020-01-02  22622100  \n",
       "2020-01-03  21116200  \n",
       "2020-01-06  20813700  \n",
       "2020-01-07  21634100  \n",
       "...              ...  \n",
       "2021-05-24  21411500  \n",
       "2021-05-25  17704300  \n",
       "2021-05-26  17771600  \n",
       "2021-05-27  24426200  \n",
       "2021-05-28  18270200  \n",
       "\n",
       "[356 rows x 6 columns]"
      ]
     },
     "execution_count": 11,
     "metadata": {},
     "output_type": "execute_result"
    }
   ],
   "source": [
    "df"
   ]
  },
  {
   "cell_type": "code",
   "execution_count": 43,
   "metadata": {},
   "outputs": [
    {
     "data": {
      "text/plain": [
       "[<matplotlib.lines.Line2D at 0x28e84e7cfa0>]"
      ]
     },
     "execution_count": 43,
     "metadata": {},
     "output_type": "execute_result"
    },
    {
     "data": {
      "image/png": "[encoded data removed]",
      "text/plain": [
       "<Figure size 432x288 with 1 Axes>"
      ]
     },
     "metadata": {
      "needs_background": "light"
     },
     "output_type": "display_data"
    }
   ],
   "source": [
    "#df[\"High\"].plot(label=\"High\")\n",
    "plt.plot(df[\"High\"])"
   ]
  },
  {
   "cell_type": "code",
   "execution_count": 25,
   "metadata": {},
   "outputs": [],
   "source": [
    "pivots=[]\n",
    "dates=[]\n",
    "counter=0\n",
    "lastPivot=0\n",
    "Range=[0,0,0,0,0,0,0,0,0,0]\n",
    "dateRange=[0,0,0,0,0,0,0,0,0,0]"
   ]
  },
  {
   "cell_type": "code",
   "execution_count": 27,
   "metadata": {},
   "outputs": [
    {
     "name": "stdout",
     "output_type": "stream",
     "text": [
      "[168.19, 190.7, 175.0, 180.0, 187.51, 198.52, 216.38, 213.94, 217.64, 232.86, 213.99, 225.21, 228.12, 217.32, 227.18, 246.13, 241.05, 263.19]\n",
      "[Timestamp('2020-01-21 00:00:00'), Timestamp('2020-02-11 00:00:00'), Timestamp('2020-03-03 00:00:00'), Timestamp('2020-04-17 00:00:00'), Timestamp('2020-05-11 00:00:00'), Timestamp('2020-06-10 00:00:00'), Timestamp('2020-07-09 00:00:00'), Timestamp('2020-07-21 00:00:00'), Timestamp('2020-08-03 00:00:00'), Timestamp('2020-09-02 00:00:00'), Timestamp('2020-10-01 00:00:00'), Timestamp('2020-10-13 00:00:00'), Timestamp('2020-11-09 00:00:00'), Timestamp('2020-12-01 00:00:00'), Timestamp('2020-12-29 00:00:00'), Timestamp('2021-02-16 00:00:00'), Timestamp('2021-03-23 00:00:00'), Timestamp('2021-04-27 00:00:00')]\n"
     ]
    }
   ],
   "source": [
    "for i in df.index:\n",
    "    currentMax=max(Range,default=0)\n",
    "    value=round(df[\"High\"][i],2)\n",
    "    Range=Range[1:9]\n",
    "    Range.append(value)\n",
    "    dateRange=dateRange[1:9]\n",
    "    dateRange.append(i)\n",
    "    if currentMax==max(Range,default=0):\n",
    "        counter+=1\n",
    "    else:\n",
    "        counter=0\n",
    "    if counter==5:\n",
    "        lastPivot=currentMax\n",
    "        dateloc=Range.index(lastPivot)\n",
    "        lastDate=dateRange[dateloc]\n",
    "        pivots.append(lastPivot)\n",
    "        dates.append(lastDate)\n",
    "        \n",
    "print(str(pivots))\n",
    "print(str(dates))"
   ]
  },
  {
   "cell_type": "code",
   "execution_count": 60,
   "metadata": {},
   "outputs": [],
   "source": [
    "timeD=dt.timedelta(days=44)"
   ]
  },
  {
   "cell_type": "code",
   "execution_count": 61,
   "metadata": {},
   "outputs": [
    {
     "data": {
      "image/png": "[encoded data removed]",
      "text/plain": [
       "<Figure size 1080x360 with 1 Axes>"
      ]
     },
     "metadata": {
      "needs_background": "light"
     },
     "output_type": "display_data"
    }
   ],
   "source": [
    "\n",
    "params = {'legend.fontsize': 'x-large',\n",
    "          'figure.figsize': (15, 5),\n",
    "         'axes.labelsize': 'x-large',\n",
    "         'axes.titlesize':'x-large',\n",
    "         'xtick.labelsize':'x-large',\n",
    "         'ytick.labelsize':'x-large'}\n",
    "plt.rcParams.update(params)\n",
    "fig= plt.figure(figsize=(15,5))\n",
    "\n",
    "axes= fig.add_axes([0,0,0.8,0.8])\n",
    "for index in range(len(pivots)):\n",
    "    #print(str(pivots[index])+\"      \"+str(dates[index]))\n",
    "    df[\"High\"].plot(label=\"High\")\n",
    "    \n",
    "    axes.plot_date([dates[index],dates[index]+timeD],[pivots[index],pivots[index]], linestyle=\"-\", linewidth=2, marker=\",\")\n",
    "plt.show()\n",
    "    "
   ]
  },
  {
   "cell_type": "code",
   "execution_count": null,
   "metadata": {},
   "outputs": [],
   "source": []
  },
  {
   "cell_type": "code",
   "execution_count": null,
   "metadata": {},
   "outputs": [],
   "source": []
  },
  {
   "cell_type": "code",
   "execution_count": null,
   "metadata": {},
   "outputs": [],
   "source": [
    "mpf.plot(df,type='candle',volume=True,addplot=ap2)"
   ]
  }
 ],
 "metadata": {
  "kernelspec": {
   "display_name": "Python 3",
   "language": "python",
   "name": "python3"
  },
  "language_info": {
   "codemirror_mode": {
    "name": "ipython",
    "version": 3
   },
   "file_extension": ".py",
   "mimetype": "text/x-python",
   "name": "python",
   "nbconvert_exporter": "python",
   "pygments_lexer": "ipython3",
   "version": "3.8.5"
  }
 },
 "nbformat": 4,
 "nbformat_minor": 4
}
