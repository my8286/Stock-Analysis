{
 "cells": [
  {
   "cell_type": "code",
   "execution_count": 16,
   "metadata": {},
   "outputs": [],
   "source": [
    "import pandas as pd\n",
    "import numpy as np\n",
    "from datetime import datetime\n",
    "import matplotlib.pyplot as plt\n",
    "import matplotlib as mpl\n",
    "import nsepy as nse\n",
    "from nsepy import get_history\n",
    "import mplfinance as mpf"
   ]
  },
  {
   "cell_type": "code",
   "execution_count": 17,
   "metadata": {},
   "outputs": [],
   "source": [
    "nifty=pd.read_csv('NIFTY200.csv')"
   ]
  },
  {
   "cell_type": "code",
   "execution_count": 18,
   "metadata": {},
   "outputs": [
    {
     "data": {
      "text/plain": [
       "Index(['SYMBOL'], dtype='object')"
      ]
     },
     "execution_count": 18,
     "metadata": {},
     "output_type": "execute_result"
    }
   ],
   "source": [
    "symbol=nifty[['SYMBOL']]\n",
    "nifty.columns\n"
   ]
  },
  {
   "cell_type": "code",
   "execution_count": 19,
   "metadata": {},
   "outputs": [
    {
     "data": {
      "text/plain": [
       "(200, 1)"
      ]
     },
     "execution_count": 19,
     "metadata": {},
     "output_type": "execute_result"
    }
   ],
   "source": [
    "nifty.shape"
   ]
  },
  {
   "cell_type": "code",
   "execution_count": 20,
   "metadata": {},
   "outputs": [
    {
     "data": {
      "text/plain": [
       "<bound method DataFrame.info of          SYMBOL\n",
       "0           ACC\n",
       "1        AUBANK\n",
       "2      AARTIIND\n",
       "3    ABBOTINDIA\n",
       "4      ADANIENT\n",
       "..          ...\n",
       "195      VOLTAS\n",
       "196   WHIRLPOOL\n",
       "197       WIPRO\n",
       "198     YESBANK\n",
       "199        ZEEL\n",
       "\n",
       "[200 rows x 1 columns]>"
      ]
     },
     "execution_count": 20,
     "metadata": {},
     "output_type": "execute_result"
    }
   ],
   "source": [
    "nifty.info"
   ]
  },
  {
   "cell_type": "code",
   "execution_count": 21,
   "metadata": {},
   "outputs": [],
   "source": [
    "mc = mpf.make_marketcolors(up='g',down='r',edge='black',volume='gray',ohlc='black')\n",
    "s  = mpf.make_mpf_style(marketcolors=mc)"
   ]
  },
  {
   "cell_type": "code",
   "execution_count": 24,
   "metadata": {},
   "outputs": [
    {
     "data": {
      "text/html": [
       "<div>\n",
       "<style scoped>\n",
       "    .dataframe tbody tr th:only-of-type {\n",
       "        vertical-align: middle;\n",
       "    }\n",
       "\n",
       "    .dataframe tbody tr th {\n",
       "        vertical-align: top;\n",
       "    }\n",
       "\n",
       "    .dataframe thead th {\n",
       "        text-align: right;\n",
       "    }\n",
       "</style>\n",
       "<table border=\"1\" class=\"dataframe\">\n",
       "  <thead>\n",
       "    <tr style=\"text-align: right;\">\n",
       "      <th></th>\n",
       "      <th>Symbol</th>\n",
       "      <th>Series</th>\n",
       "      <th>Prev Close</th>\n",
       "      <th>Open</th>\n",
       "      <th>High</th>\n",
       "      <th>Low</th>\n",
       "      <th>Last</th>\n",
       "      <th>Close</th>\n",
       "      <th>VWAP</th>\n",
       "      <th>Volume</th>\n",
       "      <th>Turnover</th>\n",
       "      <th>Trades</th>\n",
       "      <th>Deliverable Volume</th>\n",
       "      <th>%Deliverble</th>\n",
       "    </tr>\n",
       "    <tr>\n",
       "      <th>Date</th>\n",
       "      <th></th>\n",
       "      <th></th>\n",
       "      <th></th>\n",
       "      <th></th>\n",
       "      <th></th>\n",
       "      <th></th>\n",
       "      <th></th>\n",
       "      <th></th>\n",
       "      <th></th>\n",
       "      <th></th>\n",
       "      <th></th>\n",
       "      <th></th>\n",
       "      <th></th>\n",
       "      <th></th>\n",
       "    </tr>\n",
       "  </thead>\n",
       "  <tbody>\n",
       "    <tr>\n",
       "      <th>2021-01-01</th>\n",
       "      <td>TCS</td>\n",
       "      <td>EQ</td>\n",
       "      <td>2862.75</td>\n",
       "      <td>2880.0</td>\n",
       "      <td>2940.00</td>\n",
       "      <td>2879.00</td>\n",
       "      <td>2932.00</td>\n",
       "      <td>2928.25</td>\n",
       "      <td>2913.52</td>\n",
       "      <td>2681440</td>\n",
       "      <td>7.812435e+14</td>\n",
       "      <td>88216</td>\n",
       "      <td>504010</td>\n",
       "      <td>0.1880</td>\n",
       "    </tr>\n",
       "    <tr>\n",
       "      <th>2021-01-04</th>\n",
       "      <td>TCS</td>\n",
       "      <td>EQ</td>\n",
       "      <td>2928.25</td>\n",
       "      <td>2950.0</td>\n",
       "      <td>3050.75</td>\n",
       "      <td>2940.95</td>\n",
       "      <td>3042.70</td>\n",
       "      <td>3039.45</td>\n",
       "      <td>2998.15</td>\n",
       "      <td>5113293</td>\n",
       "      <td>1.533041e+15</td>\n",
       "      <td>207562</td>\n",
       "      <td>1182335</td>\n",
       "      <td>0.2312</td>\n",
       "    </tr>\n",
       "    <tr>\n",
       "      <th>2021-01-05</th>\n",
       "      <td>TCS</td>\n",
       "      <td>EQ</td>\n",
       "      <td>3039.45</td>\n",
       "      <td>3039.6</td>\n",
       "      <td>3114.25</td>\n",
       "      <td>3039.60</td>\n",
       "      <td>3090.65</td>\n",
       "      <td>3093.00</td>\n",
       "      <td>3084.07</td>\n",
       "      <td>5801309</td>\n",
       "      <td>1.789163e+15</td>\n",
       "      <td>202735</td>\n",
       "      <td>1554550</td>\n",
       "      <td>0.2680</td>\n",
       "    </tr>\n",
       "    <tr>\n",
       "      <th>2021-01-06</th>\n",
       "      <td>TCS</td>\n",
       "      <td>EQ</td>\n",
       "      <td>3093.00</td>\n",
       "      <td>3100.0</td>\n",
       "      <td>3113.50</td>\n",
       "      <td>3037.20</td>\n",
       "      <td>3053.00</td>\n",
       "      <td>3051.50</td>\n",
       "      <td>3078.56</td>\n",
       "      <td>3726716</td>\n",
       "      <td>1.147294e+15</td>\n",
       "      <td>172084</td>\n",
       "      <td>1054841</td>\n",
       "      <td>0.2830</td>\n",
       "    </tr>\n",
       "    <tr>\n",
       "      <th>2021-01-07</th>\n",
       "      <td>TCS</td>\n",
       "      <td>EQ</td>\n",
       "      <td>3051.50</td>\n",
       "      <td>3075.0</td>\n",
       "      <td>3080.85</td>\n",
       "      <td>3000.25</td>\n",
       "      <td>3048.65</td>\n",
       "      <td>3032.80</td>\n",
       "      <td>3028.74</td>\n",
       "      <td>3717827</td>\n",
       "      <td>1.126032e+15</td>\n",
       "      <td>167700</td>\n",
       "      <td>1490971</td>\n",
       "      <td>0.4010</td>\n",
       "    </tr>\n",
       "  </tbody>\n",
       "</table>\n",
       "</div>"
      ],
      "text/plain": [
       "           Symbol Series  Prev Close    Open     High      Low     Last  \\\n",
       "Date                                                                      \n",
       "2021-01-01    TCS     EQ     2862.75  2880.0  2940.00  2879.00  2932.00   \n",
       "2021-01-04    TCS     EQ     2928.25  2950.0  3050.75  2940.95  3042.70   \n",
       "2021-01-05    TCS     EQ     3039.45  3039.6  3114.25  3039.60  3090.65   \n",
       "2021-01-06    TCS     EQ     3093.00  3100.0  3113.50  3037.20  3053.00   \n",
       "2021-01-07    TCS     EQ     3051.50  3075.0  3080.85  3000.25  3048.65   \n",
       "\n",
       "              Close     VWAP   Volume      Turnover  Trades  \\\n",
       "Date                                                          \n",
       "2021-01-01  2928.25  2913.52  2681440  7.812435e+14   88216   \n",
       "2021-01-04  3039.45  2998.15  5113293  1.533041e+15  207562   \n",
       "2021-01-05  3093.00  3084.07  5801309  1.789163e+15  202735   \n",
       "2021-01-06  3051.50  3078.56  3726716  1.147294e+15  172084   \n",
       "2021-01-07  3032.80  3028.74  3717827  1.126032e+15  167700   \n",
       "\n",
       "            Deliverable Volume  %Deliverble  \n",
       "Date                                         \n",
       "2021-01-01              504010       0.1880  \n",
       "2021-01-04             1182335       0.2312  \n",
       "2021-01-05             1554550       0.2680  \n",
       "2021-01-06             1054841       0.2830  \n",
       "2021-01-07             1490971       0.4010  "
      ]
     },
     "execution_count": 24,
     "metadata": {},
     "output_type": "execute_result"
    }
   ],
   "source": [
    " rising_stock=get_history(\"TCS\",start=datetime(2021,1,1),end=datetime(datetime.now().year,datetime.now().month,datetime.now().day))\n",
    " rising_stock.head()   "
   ]
  },
  {
   "cell_type": "code",
   "execution_count": 43,
   "metadata": {},
   "outputs": [
    {
     "data": {
      "text/plain": [
       "Index(['Date', 'Symbol', 'Series', 'Prev Close', 'Open', 'High', 'Low', 'Last',\n",
       "       'Close', 'VWAP', 'Volume', 'Turnover', 'Trades', 'Deliverable Volume',\n",
       "       '%Deliverble', '44_obs_for_SMA'],\n",
       "      dtype='object')"
      ]
     },
     "execution_count": 43,
     "metadata": {},
     "output_type": "execute_result"
    }
   ],
   "source": [
    "rising_stock.reset_index('Date',inplace=True)\n",
    "rising_stock.columns\n"
   ]
  },
  {
   "cell_type": "code",
   "execution_count": 56,
   "metadata": {},
   "outputs": [],
   "source": [
    "rising_stock['Date'] = pd.to_datetime(rising_stock.Date)"
   ]
  },
  {
   "cell_type": "code",
   "execution_count": 57,
   "metadata": {},
   "outputs": [
    {
     "data": {
      "text/plain": [
       "pandas.core.series.Series"
      ]
     },
     "execution_count": 57,
     "metadata": {},
     "output_type": "execute_result"
    }
   ],
   "source": [
    "type(rising_stock.Date)"
   ]
  },
  {
   "cell_type": "code",
   "execution_count": 59,
   "metadata": {},
   "outputs": [
    {
     "data": {
      "text/html": [
       "<div>\n",
       "<style scoped>\n",
       "    .dataframe tbody tr th:only-of-type {\n",
       "        vertical-align: middle;\n",
       "    }\n",
       "\n",
       "    .dataframe tbody tr th {\n",
       "        vertical-align: top;\n",
       "    }\n",
       "\n",
       "    .dataframe thead th {\n",
       "        text-align: right;\n",
       "    }\n",
       "</style>\n",
       "<table border=\"1\" class=\"dataframe\">\n",
       "  <thead>\n",
       "    <tr style=\"text-align: right;\">\n",
       "      <th></th>\n",
       "      <th>Date</th>\n",
       "      <th>Symbol</th>\n",
       "      <th>Series</th>\n",
       "      <th>Prev Close</th>\n",
       "      <th>Open</th>\n",
       "      <th>High</th>\n",
       "      <th>Low</th>\n",
       "      <th>Last</th>\n",
       "      <th>Close</th>\n",
       "      <th>VWAP</th>\n",
       "      <th>Volume</th>\n",
       "      <th>Turnover</th>\n",
       "      <th>Trades</th>\n",
       "      <th>Deliverable Volume</th>\n",
       "      <th>%Deliverble</th>\n",
       "      <th>44_obs_for_SMA</th>\n",
       "    </tr>\n",
       "  </thead>\n",
       "  <tbody>\n",
       "    <tr>\n",
       "      <th>0</th>\n",
       "      <td>2021-01-01</td>\n",
       "      <td>EMAMILTD</td>\n",
       "      <td>EQ</td>\n",
       "      <td>423.75</td>\n",
       "      <td>425.40</td>\n",
       "      <td>425.95</td>\n",
       "      <td>419.60</td>\n",
       "      <td>423.5</td>\n",
       "      <td>423.70</td>\n",
       "      <td>422.71</td>\n",
       "      <td>305184</td>\n",
       "      <td>1.290039e+13</td>\n",
       "      <td>6843</td>\n",
       "      <td>157281</td>\n",
       "      <td>0.5154</td>\n",
       "      <td>NaN</td>\n",
       "    </tr>\n",
       "    <tr>\n",
       "      <th>1</th>\n",
       "      <td>2021-01-04</td>\n",
       "      <td>EMAMILTD</td>\n",
       "      <td>EQ</td>\n",
       "      <td>423.70</td>\n",
       "      <td>425.65</td>\n",
       "      <td>435.00</td>\n",
       "      <td>420.60</td>\n",
       "      <td>424.5</td>\n",
       "      <td>425.40</td>\n",
       "      <td>427.73</td>\n",
       "      <td>969002</td>\n",
       "      <td>4.144701e+13</td>\n",
       "      <td>25599</td>\n",
       "      <td>467829</td>\n",
       "      <td>0.4828</td>\n",
       "      <td>NaN</td>\n",
       "    </tr>\n",
       "    <tr>\n",
       "      <th>2</th>\n",
       "      <td>2021-01-05</td>\n",
       "      <td>EMAMILTD</td>\n",
       "      <td>EQ</td>\n",
       "      <td>425.40</td>\n",
       "      <td>424.00</td>\n",
       "      <td>428.80</td>\n",
       "      <td>423.10</td>\n",
       "      <td>427.0</td>\n",
       "      <td>427.25</td>\n",
       "      <td>425.60</td>\n",
       "      <td>670554</td>\n",
       "      <td>2.853899e+13</td>\n",
       "      <td>40033</td>\n",
       "      <td>457704</td>\n",
       "      <td>0.6826</td>\n",
       "      <td>NaN</td>\n",
       "    </tr>\n",
       "    <tr>\n",
       "      <th>3</th>\n",
       "      <td>2021-01-06</td>\n",
       "      <td>EMAMILTD</td>\n",
       "      <td>EQ</td>\n",
       "      <td>427.25</td>\n",
       "      <td>428.00</td>\n",
       "      <td>454.55</td>\n",
       "      <td>426.70</td>\n",
       "      <td>451.5</td>\n",
       "      <td>450.30</td>\n",
       "      <td>438.78</td>\n",
       "      <td>2684476</td>\n",
       "      <td>1.177886e+14</td>\n",
       "      <td>69274</td>\n",
       "      <td>1415144</td>\n",
       "      <td>0.5272</td>\n",
       "      <td>NaN</td>\n",
       "    </tr>\n",
       "    <tr>\n",
       "      <th>4</th>\n",
       "      <td>2021-01-07</td>\n",
       "      <td>EMAMILTD</td>\n",
       "      <td>EQ</td>\n",
       "      <td>450.30</td>\n",
       "      <td>457.00</td>\n",
       "      <td>462.40</td>\n",
       "      <td>444.90</td>\n",
       "      <td>452.0</td>\n",
       "      <td>451.55</td>\n",
       "      <td>454.98</td>\n",
       "      <td>1435982</td>\n",
       "      <td>6.533483e+13</td>\n",
       "      <td>49206</td>\n",
       "      <td>824144</td>\n",
       "      <td>0.5739</td>\n",
       "      <td>NaN</td>\n",
       "    </tr>\n",
       "    <tr>\n",
       "      <th>...</th>\n",
       "      <td>...</td>\n",
       "      <td>...</td>\n",
       "      <td>...</td>\n",
       "      <td>...</td>\n",
       "      <td>...</td>\n",
       "      <td>...</td>\n",
       "      <td>...</td>\n",
       "      <td>...</td>\n",
       "      <td>...</td>\n",
       "      <td>...</td>\n",
       "      <td>...</td>\n",
       "      <td>...</td>\n",
       "      <td>...</td>\n",
       "      <td>...</td>\n",
       "      <td>...</td>\n",
       "      <td>...</td>\n",
       "    </tr>\n",
       "    <tr>\n",
       "      <th>96</th>\n",
       "      <td>2021-05-26</td>\n",
       "      <td>EMAMILTD</td>\n",
       "      <td>EQ</td>\n",
       "      <td>499.85</td>\n",
       "      <td>510.00</td>\n",
       "      <td>510.70</td>\n",
       "      <td>495.65</td>\n",
       "      <td>504.0</td>\n",
       "      <td>504.25</td>\n",
       "      <td>504.24</td>\n",
       "      <td>655345</td>\n",
       "      <td>3.304533e+13</td>\n",
       "      <td>19285</td>\n",
       "      <td>321508</td>\n",
       "      <td>0.4906</td>\n",
       "      <td>498.779545</td>\n",
       "    </tr>\n",
       "    <tr>\n",
       "      <th>97</th>\n",
       "      <td>2021-05-27</td>\n",
       "      <td>EMAMILTD</td>\n",
       "      <td>EQ</td>\n",
       "      <td>504.25</td>\n",
       "      <td>504.00</td>\n",
       "      <td>510.00</td>\n",
       "      <td>499.00</td>\n",
       "      <td>500.0</td>\n",
       "      <td>502.40</td>\n",
       "      <td>504.83</td>\n",
       "      <td>551114</td>\n",
       "      <td>2.782195e+13</td>\n",
       "      <td>18755</td>\n",
       "      <td>419806</td>\n",
       "      <td>0.7617</td>\n",
       "      <td>499.476136</td>\n",
       "    </tr>\n",
       "    <tr>\n",
       "      <th>98</th>\n",
       "      <td>2021-05-28</td>\n",
       "      <td>EMAMILTD</td>\n",
       "      <td>EQ</td>\n",
       "      <td>502.40</td>\n",
       "      <td>506.50</td>\n",
       "      <td>506.90</td>\n",
       "      <td>499.60</td>\n",
       "      <td>504.5</td>\n",
       "      <td>503.35</td>\n",
       "      <td>504.22</td>\n",
       "      <td>267261</td>\n",
       "      <td>1.347572e+13</td>\n",
       "      <td>11284</td>\n",
       "      <td>178569</td>\n",
       "      <td>0.6681</td>\n",
       "      <td>499.884091</td>\n",
       "    </tr>\n",
       "    <tr>\n",
       "      <th>99</th>\n",
       "      <td>2021-05-31</td>\n",
       "      <td>EMAMILTD</td>\n",
       "      <td>EQ</td>\n",
       "      <td>503.35</td>\n",
       "      <td>506.50</td>\n",
       "      <td>506.50</td>\n",
       "      <td>499.95</td>\n",
       "      <td>501.8</td>\n",
       "      <td>501.10</td>\n",
       "      <td>502.60</td>\n",
       "      <td>216111</td>\n",
       "      <td>1.086176e+13</td>\n",
       "      <td>15512</td>\n",
       "      <td>155382</td>\n",
       "      <td>0.7190</td>\n",
       "      <td>500.369318</td>\n",
       "    </tr>\n",
       "    <tr>\n",
       "      <th>100</th>\n",
       "      <td>2021-06-01</td>\n",
       "      <td>EMAMILTD</td>\n",
       "      <td>EQ</td>\n",
       "      <td>501.10</td>\n",
       "      <td>502.90</td>\n",
       "      <td>514.90</td>\n",
       "      <td>502.05</td>\n",
       "      <td>508.0</td>\n",
       "      <td>507.50</td>\n",
       "      <td>510.07</td>\n",
       "      <td>582758</td>\n",
       "      <td>2.972462e+13</td>\n",
       "      <td>21103</td>\n",
       "      <td>362468</td>\n",
       "      <td>0.6220</td>\n",
       "      <td>501.136364</td>\n",
       "    </tr>\n",
       "  </tbody>\n",
       "</table>\n",
       "<p>101 rows × 16 columns</p>\n",
       "</div>"
      ],
      "text/plain": [
       "          Date    Symbol Series  Prev Close    Open    High     Low   Last  \\\n",
       "0   2021-01-01  EMAMILTD     EQ      423.75  425.40  425.95  419.60  423.5   \n",
       "1   2021-01-04  EMAMILTD     EQ      423.70  425.65  435.00  420.60  424.5   \n",
       "2   2021-01-05  EMAMILTD     EQ      425.40  424.00  428.80  423.10  427.0   \n",
       "3   2021-01-06  EMAMILTD     EQ      427.25  428.00  454.55  426.70  451.5   \n",
       "4   2021-01-07  EMAMILTD     EQ      450.30  457.00  462.40  444.90  452.0   \n",
       "..         ...       ...    ...         ...     ...     ...     ...    ...   \n",
       "96  2021-05-26  EMAMILTD     EQ      499.85  510.00  510.70  495.65  504.0   \n",
       "97  2021-05-27  EMAMILTD     EQ      504.25  504.00  510.00  499.00  500.0   \n",
       "98  2021-05-28  EMAMILTD     EQ      502.40  506.50  506.90  499.60  504.5   \n",
       "99  2021-05-31  EMAMILTD     EQ      503.35  506.50  506.50  499.95  501.8   \n",
       "100 2021-06-01  EMAMILTD     EQ      501.10  502.90  514.90  502.05  508.0   \n",
       "\n",
       "      Close    VWAP   Volume      Turnover  Trades  Deliverable Volume  \\\n",
       "0    423.70  422.71   305184  1.290039e+13    6843              157281   \n",
       "1    425.40  427.73   969002  4.144701e+13   25599              467829   \n",
       "2    427.25  425.60   670554  2.853899e+13   40033              457704   \n",
       "3    450.30  438.78  2684476  1.177886e+14   69274             1415144   \n",
       "4    451.55  454.98  1435982  6.533483e+13   49206              824144   \n",
       "..      ...     ...      ...           ...     ...                 ...   \n",
       "96   504.25  504.24   655345  3.304533e+13   19285              321508   \n",
       "97   502.40  504.83   551114  2.782195e+13   18755              419806   \n",
       "98   503.35  504.22   267261  1.347572e+13   11284              178569   \n",
       "99   501.10  502.60   216111  1.086176e+13   15512              155382   \n",
       "100  507.50  510.07   582758  2.972462e+13   21103              362468   \n",
       "\n",
       "     %Deliverble  44_obs_for_SMA  \n",
       "0         0.5154             NaN  \n",
       "1         0.4828             NaN  \n",
       "2         0.6826             NaN  \n",
       "3         0.5272             NaN  \n",
       "4         0.5739             NaN  \n",
       "..           ...             ...  \n",
       "96        0.4906      498.779545  \n",
       "97        0.7617      499.476136  \n",
       "98        0.6681      499.884091  \n",
       "99        0.7190      500.369318  \n",
       "100       0.6220      501.136364  \n",
       "\n",
       "[101 rows x 16 columns]"
      ]
     },
     "execution_count": 59,
     "metadata": {},
     "output_type": "execute_result"
    }
   ],
   "source": [
    "\n",
    "rising_stock"
   ]
  },
  {
   "cell_type": "code",
   "execution_count": null,
   "metadata": {},
   "outputs": [],
   "source": [
    "# Get historical data of all Nifty50 stocks and filter out rising stocks\n",
    "# calculating the simple moving average (which is just mean calculated progressively) \n",
    "# and add the result as a new column to dataframe\n",
    "\n",
    "for index, row in nifty.iterrows():\n",
    "    rising_stock=get_history(row[\"SYMBOL\"],start=datetime(2021,1,1),end=datetime(datetime.now().year,datetime.now().month,datetime.now().day))\n",
    "    if rising_stock.shape[0]>1 and rising_stock['Open'][-1] < rising_stock['Close'][-1]:\n",
    "        SMA_window = 44\n",
    "        rising_stock[\"44_obs_for_SMA\"] = rising_stock[\"Close\"].rolling(window=SMA_window).mean()\n",
    "\n",
    "        if (rising_stock[\"High\"][-1]>= rising_stock[\"44_obs_for_SMA\"][-1] and rising_stock[\"Low\"][-1]<= rising_stock[\"44_obs_for_SMA\"][-1]) or abs(rising_stock[\"Low\"][-1]-rising_stock[\"44_obs_for_SMA\"][-1])<=2 :\n",
    "            #rising_stock['Date'] = pd.to_datetime(rising_stock.Date, infer_datetime_format=True)\n",
    "            #rising_stock.to_csv(\"stocks/{index}.csv\".format(index=index))\n",
    "            rising_stock.reset_index('Date',inplace=True)\n",
    "            rising_stock['Date'] = pd.to_datetime(rising_stock.Date)\n",
    "            rising_stock.set_index('Date',inplace=True)\n",
    "            print(row[\"SYMBOL\"])\n",
    "            #print(rising_stock['Date'])\n",
    "            #df=rising_stock[[\"Date\",\"Symbol\",\"Open\",\"High\",\"Low\",\"Close\"]]\n",
    "            mpf.plot(rising_stock,type='candle',figratio=(38,15),mav=44,style=s)\n",
    "                \n",
    "            \n",
    "    #print('{name}: {value}'.format(name=name, value=values))\n"
   ]
  },
  {
   "cell_type": "code",
   "execution_count": 8,
   "metadata": {},
   "outputs": [],
   "source": [
    "data=pd.DataFrame(list,columns=[\"SYMBOL\",\"Open\",\"High\",\"Low\",\"Close\",\"44_obs_for_SMA\"])\n",
    "data=data[[\"SYMBOL\",\"Open\",\"High\",\"Low\",\"Close\",\"44_obs_for_SMA\"]]\n",
    "data.to_csv(\"stocks/rising_stocks.csv\")"
   ]
  },
  {
   "cell_type": "code",
   "execution_count": 9,
   "metadata": {},
   "outputs": [],
   "source": [
    "rising_stocks=pd.read_csv('stocks/rising_stocks.csv',index_col=0)"
   ]
  },
  {
   "cell_type": "code",
   "execution_count": 10,
   "metadata": {},
   "outputs": [
    {
     "data": {
      "text/plain": [
       "Index(['SYMBOL', 'Open', 'High', 'Low', 'Close', '44_obs_for_SMA'], dtype='object')"
      ]
     },
     "execution_count": 10,
     "metadata": {},
     "output_type": "execute_result"
    }
   ],
   "source": [
    "rising_stocks.columns"
   ]
  },
  {
   "cell_type": "code",
   "execution_count": 11,
   "metadata": {},
   "outputs": [
    {
     "data": {
      "text/html": [
       "<div>\n",
       "<style scoped>\n",
       "    .dataframe tbody tr th:only-of-type {\n",
       "        vertical-align: middle;\n",
       "    }\n",
       "\n",
       "    .dataframe tbody tr th {\n",
       "        vertical-align: top;\n",
       "    }\n",
       "\n",
       "    .dataframe thead th {\n",
       "        text-align: right;\n",
       "    }\n",
       "</style>\n",
       "<table border=\"1\" class=\"dataframe\">\n",
       "  <thead>\n",
       "    <tr style=\"text-align: right;\">\n",
       "      <th></th>\n",
       "      <th>SYMBOL</th>\n",
       "      <th>Open</th>\n",
       "      <th>High</th>\n",
       "      <th>Low</th>\n",
       "      <th>Close</th>\n",
       "      <th>44_obs_for_SMA</th>\n",
       "    </tr>\n",
       "  </thead>\n",
       "  <tbody>\n",
       "    <tr>\n",
       "      <th>0</th>\n",
       "      <td>EMAMILTD</td>\n",
       "      <td>502.9</td>\n",
       "      <td>514.90</td>\n",
       "      <td>502.05</td>\n",
       "      <td>507.5</td>\n",
       "      <td>501.136364</td>\n",
       "    </tr>\n",
       "    <tr>\n",
       "      <th>1</th>\n",
       "      <td>GODREJIND</td>\n",
       "      <td>524.0</td>\n",
       "      <td>537.95</td>\n",
       "      <td>520.35</td>\n",
       "      <td>527.4</td>\n",
       "      <td>528.927273</td>\n",
       "    </tr>\n",
       "  </tbody>\n",
       "</table>\n",
       "</div>"
      ],
      "text/plain": [
       "      SYMBOL   Open    High     Low  Close  44_obs_for_SMA\n",
       "0   EMAMILTD  502.9  514.90  502.05  507.5      501.136364\n",
       "1  GODREJIND  524.0  537.95  520.35  527.4      528.927273"
      ]
     },
     "execution_count": 11,
     "metadata": {},
     "output_type": "execute_result"
    }
   ],
   "source": [
    "rising_stocks"
   ]
  },
  {
   "cell_type": "code",
   "execution_count": 12,
   "metadata": {},
   "outputs": [
    {
     "name": "stdout",
     "output_type": "stream",
     "text": [
      "GODREJIND    538       520         529 \n"
     ]
    }
   ],
   "source": [
    "### and plot the graph with points where upturn happen\n",
    "\n",
    "for index, row in rising_stocks.iterrows():\n",
    "    if row[\"High\"]>= row[\"44_obs_for_SMA\"] and row[\"44_obs_for_SMA\"] >=row[\"Low\"] :\n",
    "        #print(row[\"SYMBOL\"])\n",
    "        print(\"{symbol}    {high}       {low}         {sma} \".format(symbol=row[\"SYMBOL\"],high=round(row[\"High\"]),low=round(row[\"Low\"]),sma=round(row[\"44_obs_for_SMA\"])))"
   ]
  },
  {
   "cell_type": "code",
   "execution_count": 13,
   "metadata": {},
   "outputs": [],
   "source": [
    "#rising_stock.dtypes"
   ]
  },
  {
   "cell_type": "code",
   "execution_count": 14,
   "metadata": {},
   "outputs": [],
   "source": [
    "mc = mpf.make_marketcolors(up='g',down='r',\n",
    "                           edge='black',\n",
    "                           \n",
    "                           volume='gray',\n",
    "                           ohlc='black')\n",
    "s  = mpf.make_mpf_style(marketcolors=mc)"
   ]
  },
  {
   "cell_type": "code",
   "execution_count": 63,
   "metadata": {},
   "outputs": [
    {
     "name": "stdout",
     "output_type": "stream",
     "text": [
      "EMAMILTD\n",
      "Index(['Symbol', 'Series', 'Prev Close', 'Open', 'High', 'Low', 'Last',\n",
      "       'Close', 'VWAP', 'Volume', 'Turnover', 'Trades', 'Deliverable Volume',\n",
      "       '%Deliverble', '44_obs_for_SMA'],\n",
      "      dtype='object')\n"
     ]
    },
    {
     "data": {
      "image/png": "[encoded data removed]",
      "text/plain": [
       "<Figure size 1456.67x575 with 2 Axes>"
      ]
     },
     "metadata": {},
     "output_type": "display_data"
    },
    {
     "name": "stdout",
     "output_type": "stream",
     "text": [
      "GODREJIND\n",
      "Index(['Symbol', 'Series', 'Prev Close', 'Open', 'High', 'Low', 'Last',\n",
      "       'Close', 'VWAP', 'Volume', 'Turnover', 'Trades', 'Deliverable Volume',\n",
      "       '%Deliverble', '44_obs_for_SMA'],\n",
      "      dtype='object')\n"
     ]
    },
    {
     "data": {
      "image/png": "[encoded data removed]",
      "text/plain": [
       "<Figure size 1456.67x575 with 2 Axes>"
      ]
     },
     "metadata": {},
     "output_type": "display_data"
    }
   ],
   "source": [
    "for index, row in rising_stocks.iterrows():\n",
    "    stock = pd.read_csv('stocks/{symbol}.csv'.format(symbol=row[\"SYMBOL\"]),index_col=0,parse_dates=True)\n",
    "    #if (stock[\"High\"][-1]>= stock[\"44_obs_for_SMA\"][-1]) and (stock[\"Low\"][-1]<= stock[\"44_obs_for_SMA\"][-1]):\n",
    "    print(row[\"SYMBOL\"])\n",
    "    print(stock.columns)\n",
    "\n",
    "    mpf.plot(stock,type='candle',figratio=(38,15),mav=44,style=s)"
   ]
  },
  {
   "cell_type": "code",
   "execution_count": 18,
   "metadata": {},
   "outputs": [],
   "source": [
    "import pathlib\n",
    "import IPython.display as IPydisplay\n",
    "#stock = pd.read_csv('stocks/TCS.csv',index_col=0,parse_dates=True)\n",
    "for index, row in rising_stocks.iterrows():\n",
    "    stock = pd.read_csv('stocks/{symbol}.csv'.format(symbol=row[\"SYMBOL\"]),index_col=0,parse_dates=True)\n",
    "    ourpath = pathlib.Path(\"img/{symbol}.png\".format(symbol=row[\"SYMBOL\"]))\n",
    "    mpf.plot(stock, type='candle',figratio=(100,40), mav=44, savefig=ourpath,style=s)\n",
    "    #IPydisplay.Image(ourpath)"
   ]
  },
  {
   "cell_type": "code",
   "execution_count": null,
   "metadata": {},
   "outputs": [],
   "source": []
  }
 ],
 "metadata": {
  "kernelspec": {
   "display_name": "Python 3",
   "language": "python",
   "name": "python3"
  },
  "language_info": {
   "codemirror_mode": {
    "name": "ipython",
    "version": 3
   },
   "file_extension": ".py",
   "mimetype": "text/x-python",
   "name": "python",
   "nbconvert_exporter": "python",
   "pygments_lexer": "ipython3",
   "version": "3.8.5"
  }
 },
 "nbformat": 4,
 "nbformat_minor": 4
}
